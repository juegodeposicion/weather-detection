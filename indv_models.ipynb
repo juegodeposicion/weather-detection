{
 "cells": [
  {
   "cell_type": "code",
   "execution_count": 2,
   "id": "64d9d7bb-daf7-4fed-b3e1-93e89174f56c",
   "metadata": {},
   "outputs": [],
   "source": [
    "from sklearn.svm import SVC\n",
    "from sklearn.ensemble import RandomForestClassifier\n",
    "from xgboost import XGBClassifier\n",
    "from sklearn.model_selection import train_test_split\n",
    "from sklearn.metrics import precision_score, recall_score, accuracy_score, f1_score\n",
    "import pandas as pd\n",
    "import numpy as np\n",
    "from sklearn.preprocessing import LabelEncoder\n",
    "from sklearn.svm import SVC\n",
    "from sklearn.ensemble import RandomForestClassifier\n",
    "from xgboost import XGBClassifier\n",
    "from sklearn.model_selection import train_test_split\n",
    "from sklearn.metrics import precision_score, recall_score, accuracy_score, f1_score\n",
    "import pandas as pd\n",
    "import numpy as np\n",
    "from sklearn.preprocessing import LabelEncoder\n"
   ]
  },
  {
   "cell_type": "code",
   "execution_count": 3,
   "id": "e4b292ad-541c-40b5-afbc-4b1df009bac2",
   "metadata": {},
   "outputs": [],
   "source": [
    "data = pd.read_csv('data1_updated.csv')\n",
    "data.drop(columns=['image_name'], axis=1, inplace=True)\n",
    "X = data.drop('category', axis=1)\n",
    "y = data['category']"
   ]
  },
  {
   "cell_type": "code",
   "execution_count": 4,
   "id": "b57e3da1-ee58-4d89-a13a-2bb4cd43fa48",
   "metadata": {},
   "outputs": [],
   "source": [
    "le = LabelEncoder()\n",
    "y_encoded = le.fit_transform(y.values.ravel())\n",
    "y = np.asarray(y_encoded).ravel()\n"
   ]
  },
  {
   "cell_type": "code",
   "execution_count": 5,
   "id": "ea4f6e42-3d3e-43fa-b117-67a3ea82fabe",
   "metadata": {},
   "outputs": [],
   "source": [
    "# Split data\n",
    "X_train, X_test, y_train, y_test = train_test_split(X, y, test_size=0.2, random_state=42)"
   ]
  },
  {
   "cell_type": "code",
   "execution_count": 6,
   "id": "3fc5142d-2567-4d68-9909-ab27f6ed7340",
   "metadata": {},
   "outputs": [],
   "source": [
    "# Function to train and evaluate a model\n",
    "def train_evaluate(model, model_name):\n",
    "    model.fit(X_train, y_train)\n",
    "    y_pred = model.predict(X_test)\n",
    "    \n",
    "    precision = precision_score(y_test, y_pred, average='weighted')\n",
    "    recall = recall_score(y_test, y_pred, average='weighted')\n",
    "    accuracy = accuracy_score(y_test, y_pred)\n",
    "    f1 = f1_score(y_test, y_pred, average='weighted')\n",
    "    \n",
    "    print(f'\\n{model_name} Performance:')\n",
    "    print(f'Accuracy:  {accuracy:.4f}')\n",
    "    print(f'Precision: {precision:.4f}')\n",
    "    print(f'Recall:    {recall:.4f}')\n",
    "    print(f'F1-score:  {f1:.4f}')"
   ]
  },
  {
   "cell_type": "code",
   "execution_count": 7,
   "id": "e66dad84-bd59-4820-a8f6-99f531b1950b",
   "metadata": {},
   "outputs": [
    {
     "name": "stdout",
     "output_type": "stream",
     "text": [
      "\n",
      "Support Vector Machine Performance:\n",
      "Accuracy:  0.9456\n",
      "Precision: 0.9471\n",
      "Recall:    0.9456\n",
      "F1-score:  0.9459\n"
     ]
    }
   ],
   "source": [
    "# Train and evaluate SVM\n",
    "svm_model = SVC(kernel='linear', C=1.0, random_state=42)\n",
    "train_evaluate(svm_model, 'Support Vector Machine')"
   ]
  },
  {
   "cell_type": "code",
   "execution_count": 8,
   "id": "d138ed8f-77e0-4173-a5d3-e39f4b169eb1",
   "metadata": {},
   "outputs": [
    {
     "name": "stdout",
     "output_type": "stream",
     "text": [
      "\n",
      "Random Forest Performance:\n",
      "Accuracy:  0.9534\n",
      "Precision: 0.9547\n",
      "Recall:    0.9534\n",
      "F1-score:  0.9538\n"
     ]
    }
   ],
   "source": [
    "# Train and evaluate Random Forest\n",
    "rf_model = RandomForestClassifier(n_estimators=100, random_state=42)\n",
    "train_evaluate(rf_model, 'Random Forest')"
   ]
  },
  {
   "cell_type": "code",
   "execution_count": 9,
   "id": "9953719c-43c8-4783-8b37-9d0643a3c325",
   "metadata": {},
   "outputs": [
    {
     "name": "stdout",
     "output_type": "stream",
     "text": [
      "\n",
      "XGBoost Performance:\n",
      "Accuracy:  0.9625\n",
      "Precision: 0.9629\n",
      "Recall:    0.9625\n",
      "F1-score:  0.9626\n"
     ]
    }
   ],
   "source": [
    "# Train and evaluate XGBoost\n",
    "xgb_model = XGBClassifier(n_estimators=100, objective='multi:softprob', random_state=42)\n",
    "train_evaluate(xgb_model, 'XGBoost')"
   ]
  },
  {
   "cell_type": "markdown",
   "id": "f4a8938c-47c7-4ea5-8663-2f5792b23b0c",
   "metadata": {},
   "source": [
    "## for svm = 94.56% , RF = 95.34% , XGB = 96.25%"
   ]
  },
  {
   "cell_type": "code",
   "execution_count": null,
   "id": "ec020472-5ea6-45e3-a59d-d031f7388619",
   "metadata": {},
   "outputs": [],
   "source": []
  }
 ],
 "metadata": {
  "kernelspec": {
   "display_name": "Python 3 (ipykernel)",
   "language": "python",
   "name": "python3"
  },
  "language_info": {
   "codemirror_mode": {
    "name": "ipython",
    "version": 3
   },
   "file_extension": ".py",
   "mimetype": "text/x-python",
   "name": "python",
   "nbconvert_exporter": "python",
   "pygments_lexer": "ipython3",
   "version": "3.11.7"
  }
 },
 "nbformat": 4,
 "nbformat_minor": 5
}
