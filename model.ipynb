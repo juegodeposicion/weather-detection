{
 "cells": [
  {
   "cell_type": "code",
   "execution_count": 1,
   "metadata": {},
   "outputs": [
    {
     "name": "stdout",
     "output_type": "stream",
     "text": [
      "Label dtype: object\n",
      "Unique values: ['clear' 'synthetic_haze' 'synthetic_low_light' 'synthetic_rain']\n",
      "Missing values: 0\n",
      "brightness       float64\n",
      "saturation       float64\n",
      "noise_level      float64\n",
      "blur_metric      float64\n",
      "edge_strength    float64\n",
      "lbp_mean_r2      float64\n",
      "lbp_var_r2       float64\n",
      "edges_var        float64\n",
      "red_var          float64\n",
      "green_var        float64\n",
      "blue_var         float64\n",
      "rg_ratio         float64\n",
      "rb_ratio         float64\n",
      "gb_ratio         float64\n",
      "dtype: object\n"
     ]
    }
   ],
   "source": [
    "# Import required libraries\n",
    "from sklearn.svm import SVC\n",
    "from sklearn.ensemble import RandomForestClassifier, VotingClassifier\n",
    "from xgboost import XGBClassifier\n",
    "from sklearn.model_selection import train_test_split\n",
    "from sklearn.metrics import f1_score\n",
    "import pandas as pd\n",
    "import numpy as np\n",
    "from sklearn.metrics import precision_score, recall_score, accuracy_score\n",
    "\n",
    "# Load dataset with extracted features (Replace with your data path)\n",
    "data = pd.read_csv('data1_updated.csv')\n",
    "data.drop(columns=['image_name'],axis=1, inplace=True)\n",
    "X = data.drop('category', axis=1)\n",
    "y = data['category']\n",
    "print(f\"Label dtype: {y.dtype}\")\n",
    "print(f\"Unique values: {np.unique(y)}\")\n",
    "print(f\"Missing values: {y.isnull().sum()}\")\n",
    "print(X.dtypes)\n",
    "\n",
    "\n",
    "\n"
   ]
  },
  {
   "cell_type": "code",
   "execution_count": 2,
   "metadata": {},
   "outputs": [],
   "source": [
    "from sklearn.preprocessing import LabelEncoder\n",
    "\n",
    "# Convert any string labels to integers\n",
    "le = LabelEncoder()\n",
    "y_encoded = le.fit_transform(y.values.ravel())  # Handle 2D arrays\n",
    "\n",
    "# Verify encoding\n",
    "assert set(y_encoded) == {0,1,2,3}, \"Invalid class count\""
   ]
  },
  {
   "cell_type": "code",
   "execution_count": 3,
   "metadata": {},
   "outputs": [
    {
     "name": "stdout",
     "output_type": "stream",
     "text": [
      "Final shape: (8268,)\n"
     ]
    }
   ],
   "source": [
    "y = np.asarray(y_encoded).ravel()  # Force 1D shape\n",
    "print(f\"Final shape: {y.shape}\")   # Should be (n_samples,)\n"
   ]
  },
  {
   "cell_type": "code",
   "execution_count": 5,
   "metadata": {},
   "outputs": [
    {
     "name": "stdout",
     "output_type": "stream",
     "text": [
      "\n",
      "Ensemble Accuracy:  0.9595\n",
      "Ensemble Precision: 0.9599\n",
      "Ensemble Recall:    0.9595\n",
      "Ensemble F1-score: 0.9596\n",
      "\n"
     ]
    }
   ],
   "source": [
    "# Split data according to paper's experimental protocol\n",
    "X_train, X_test, y_train, y_test = train_test_split(\n",
    "    X, y, test_size=0.2, random_state=42\n",
    ")\n",
    "# Initialize base models with paper-specified parameters\n",
    "svm_model = SVC(\n",
    "    kernel='linear', \n",
    "    C=1.0, \n",
    "    probability=True,  # Required for soft voting\n",
    "    random_state=42\n",
    ")\n",
    "\n",
    "rf_model = RandomForestClassifier(\n",
    "    n_estimators=100,\n",
    "    random_state=42\n",
    ")\n",
    "\n",
    "xgb_model = XGBClassifier(\n",
    "    n_estimators=100,\n",
    "    objective='multi:softprob',  # Essential for 4-class classification\n",
    "    random_state=42\n",
    ")\n",
    "\n",
    "# Create ensemble classifier with soft voting\n",
    "ensemble = VotingClassifier(\n",
    "    estimators=[\n",
    "        ('svm', svm_model),\n",
    "        ('rf', rf_model),\n",
    "        ('xgb', xgb_model)\n",
    "    ],\n",
    "    voting='soft'  # As specified in Section III.2[1]\n",
    ")\n",
    "\n",
    "# Train ensemble model\n",
    "ensemble.fit(X_train, y_train)\n",
    "\n",
    "# Generate predictions\n",
    "y_pred = ensemble.predict(X_test)\n",
    "\n",
    "# Calculate metrics\n",
    "precision = precision_score(y_test, y_pred, average='weighted')  # For multi-class\n",
    "recall = recall_score(y_test, y_pred, average='weighted')\n",
    "accuracy = accuracy_score(y_test, y_pred)\n",
    "# Calculate F1-score (weighted average for multiclass)\n",
    "f1 = f1_score(y_test, y_pred, average='weighted')\n",
    "\n",
    "print(f'''\n",
    "Ensemble Accuracy:  {accuracy:.4f}\n",
    "Ensemble Precision: {precision:.4f}\n",
    "Ensemble Recall:    {recall:.4f}\n",
    "Ensemble F1-score: {f1:.4f}\n",
    "''')\n"
   ]
  }
 ],
 "metadata": {
  "kernelspec": {
   "display_name": "Python 3",
   "language": "python",
   "name": "python3"
  },
  "language_info": {
   "codemirror_mode": {
    "name": "ipython",
    "version": 3
   },
   "file_extension": ".py",
   "mimetype": "text/x-python",
   "name": "python",
   "nbconvert_exporter": "python",
   "pygments_lexer": "ipython3",
   "version": "3.10.1"
  }
 },
 "nbformat": 4,
 "nbformat_minor": 2
}
