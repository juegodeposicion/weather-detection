{
 "cells": [
  {
   "cell_type": "code",
   "execution_count": 4,
   "id": "5e0d7187-d9bb-4ef4-b0b0-e3cda3cb7e9a",
   "metadata": {},
   "outputs": [
    {
     "name": "stdout",
     "output_type": "stream",
     "text": [
      "Requirement already satisfied: xgboost in c:\\users\\aditya basak\\appdata\\local\\programs\\python\\python313\\lib\\site-packages (2.1.4)\n",
      "Requirement already satisfied: numpy in c:\\users\\aditya basak\\appdata\\local\\programs\\python\\python313\\lib\\site-packages (from xgboost) (2.2.2)\n",
      "Requirement already satisfied: scipy in c:\\users\\aditya basak\\appdata\\local\\programs\\python\\python313\\lib\\site-packages (from xgboost) (1.15.1)\n"
     ]
    },
    {
     "name": "stderr",
     "output_type": "stream",
     "text": [
      "\n",
      "[notice] A new release of pip is available: 24.3.1 -> 25.0.1\n",
      "[notice] To update, run: python.exe -m pip install --upgrade pip\n"
     ]
    }
   ],
   "source": [
    "!pip install xgboost"
   ]
  },
  {
   "cell_type": "code",
   "execution_count": 1,
   "id": "fcc1dbf9-da3b-419a-8a82-ed6f130e9e09",
   "metadata": {},
   "outputs": [
    {
     "name": "stdout",
     "output_type": "stream",
     "text": [
      "Cross-Validation Results (5-Fold):\n",
      "  Accuracy:  0.9586 ± 0.0043\n",
      "  Precision: 0.9594 ± 0.0042\n",
      "  Recall:    0.9586 ± 0.0043\n",
      "  F1-score:  0.9588 ± 0.0043\n"
     ]
    }
   ],
   "source": [
    "import numpy as np\n",
    "import pandas as pd\n",
    "\n",
    "from sklearn.preprocessing import LabelEncoder\n",
    "from sklearn.model_selection import cross_validate, StratifiedKFold\n",
    "from sklearn.ensemble import VotingClassifier, RandomForestClassifier\n",
    "from sklearn.svm import SVC\n",
    "from xgboost import XGBClassifier\n",
    "\n",
    "# 1. Read dataset\n",
    "data = pd.read_csv(\"D:/fy_project1/data1_updated.csv\")\n",
    "\n",
    "# 2. Drop columns not needed or already removed\n",
    "#   (If 'image_name' is still in your data, drop it as stated.)\n",
    "if 'image_name' in data.columns:\n",
    "    data.drop(columns=['image_name'], axis=1, inplace=True)\n",
    "\n",
    "# 3. Separate features and labels\n",
    "X = data.drop('category', axis=1)\n",
    "y = data['category']\n",
    "\n",
    "# 4. Encode target if necessary\n",
    "le = LabelEncoder()\n",
    "y_encoded = le.fit_transform(y.values.ravel())\n",
    "y = np.asarray(y_encoded).ravel()\n",
    "\n",
    "# 5. Define base models\n",
    "svm_model = SVC(kernel='linear', C=1.0, probability=True, random_state=42)\n",
    "rf_model = RandomForestClassifier(n_estimators=100, random_state=42)\n",
    "xgb_model = XGBClassifier(n_estimators=100, objective='multi:softprob', random_state=42)\n",
    "\n",
    "# 6. Create the ensemble with soft voting\n",
    "ensemble = VotingClassifier(\n",
    "    estimators=[\n",
    "        ('svm', svm_model),\n",
    "        ('rf', rf_model),\n",
    "        ('xgb', xgb_model)\n",
    "    ],\n",
    "    voting='soft'\n",
    ")\n",
    "\n",
    "# 7. Cross-validation setup\n",
    "#    Define metrics you want to evaluate.\n",
    "scoring = {\n",
    "    'accuracy': 'accuracy',\n",
    "    'precision': 'precision_weighted',\n",
    "    'recall': 'recall_weighted',\n",
    "    'f1': 'f1_weighted'\n",
    "}\n",
    "\n",
    "# Choose the number of folds (e.g., 5)\n",
    "cv = StratifiedKFold(n_splits=5, shuffle=True, random_state=42)\n",
    "\n",
    "# 8. Perform cross-validation\n",
    "results = cross_validate(\n",
    "    ensemble,\n",
    "    X, y,\n",
    "    cv=cv,\n",
    "    scoring=scoring,\n",
    "    return_train_score=False\n",
    ")\n",
    "\n",
    "# 9. Print average metrics across folds\n",
    "print(\"Cross-Validation Results (5-Fold):\")\n",
    "print(f\"  Accuracy:  {results['test_accuracy'].mean():.4f} ± {results['test_accuracy'].std():.4f}\")\n",
    "print(f\"  Precision: {results['test_precision'].mean():.4f} ± {results['test_precision'].std():.4f}\")\n",
    "print(f\"  Recall:    {results['test_recall'].mean():.4f} ± {results['test_recall'].std():.4f}\")\n",
    "print(f\"  F1-score:  {results['test_f1'].mean():.4f} ± {results['test_f1'].std():.4f}\")\n"
   ]
  },
  {
   "cell_type": "code",
   "execution_count": null,
   "id": "158e59ee-402c-4bb9-adb9-d0811b1c9da6",
   "metadata": {},
   "outputs": [],
   "source": []
  }
 ],
 "metadata": {
  "kernelspec": {
   "display_name": "Python 3 (ipykernel)",
   "language": "python",
   "name": "python3"
  },
  "language_info": {
   "codemirror_mode": {
    "name": "ipython",
    "version": 3
   },
   "file_extension": ".py",
   "mimetype": "text/x-python",
   "name": "python",
   "nbconvert_exporter": "python",
   "pygments_lexer": "ipython3",
   "version": "3.13.1"
  }
 },
 "nbformat": 4,
 "nbformat_minor": 5
}
